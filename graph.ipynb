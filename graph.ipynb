{
  "nbformat": 4,
  "nbformat_minor": 0,
  "metadata": {
    "colab": {
      "provenance": [],
      "authorship_tag": "ABX9TyOotLVwDXqxWwMysPyZiHh+",
      "include_colab_link": true
    },
    "kernelspec": {
      "name": "python3",
      "display_name": "Python 3"
    },
    "language_info": {
      "name": "python"
    }
  },
  "cells": [
    {
      "cell_type": "markdown",
      "metadata": {
        "id": "view-in-github",
        "colab_type": "text"
      },
      "source": [
        "<a href=\"https://colab.research.google.com/github/Feev004/Colab_Artifical_Intelligence/blob/main/graph.ipynb\" target=\"_parent\"><img src=\"https://colab.research.google.com/assets/colab-badge.svg\" alt=\"Open In Colab\"/></a>"
      ]
    },
    {
      "cell_type": "code",
      "execution_count": 4,
      "metadata": {
        "colab": {
          "base_uri": "https://localhost:8080/"
        },
        "id": "-Y72J82loZaN",
        "outputId": "72f63aeb-a218-4880-e96f-11bdca08e635"
      },
      "outputs": [
        {
          "output_type": "stream",
          "name": "stdout",
          "text": [
            "7 6 8 "
          ]
        }
      ],
      "source": [
        "graph = {\n",
        "    '0' : ['1'],\n",
        "    '1' : ['0', '2'],\n",
        "    '2' : ['1', '3'],\n",
        "    '3' : ['2', '1', '4'],\n",
        "    '4' : ['3'],\n",
        "    '5' : [],\n",
        "    '6' : ['7', '8'],\n",
        "    '7' : ['6', '8'],\n",
        "    '8' : ['6', '7']\n",
        "}\n",
        "visited = []\n",
        "queue = []\n",
        "\n",
        "def bfs(visited, graph, node):\n",
        "  visited.append(node)\n",
        "  queue.append(node)\n",
        "\n",
        "  while queue:\n",
        "    s = queue.pop(0)\n",
        "    print (s, end = \" \")\n",
        "\n",
        "    for neighbour in graph[s]:\n",
        "      if neighbour not in visited:\n",
        "        visited.append(neighbour)\n",
        "        queue.append(neighbour)\n",
        "\n",
        "bfs(visited, graph, '7')"
      ]
    },
    {
      "cell_type": "code",
      "source": [
        "graph = {\n",
        "  '0' : ['1'],\n",
        "  '1' : ['0','2'],\n",
        "  '2' : ['1','3'],\n",
        "  '3' : ['2','1'],\n",
        "  '4' : ['3'],\n",
        "  '5' : [],\n",
        "  '6' : ['7','8'],\n",
        "  '7' : ['6','8'],\n",
        "  '8' : ['6','7'],\n",
        "}\n",
        "visited = [] # List to keep track of visited nodes.\n",
        "queue = []     #Initialize a queue\n",
        "def bfs(visited, graph, node, final):\n",
        "      visited.append(node)\n",
        "      queue.append(node)\n",
        "\n",
        "      while queue:\n",
        "        s = queue.pop(0)\n",
        "        if s == final:\n",
        "          print ('Output : ', end = \" \")\n",
        "          for i in range(0, len(visited)):\n",
        "            print(visited[i], end = \" \")\n",
        "          print(' ')\n",
        "          return\n",
        "\n",
        "        for neighbour in graph[s]:\n",
        "              if neighbour not in visited:\n",
        "                   visited.append(neighbour)\n",
        "                   queue.append(neighbour)\n",
        "\n",
        "\n",
        "# Driver Code\n",
        "bfs(visited, graph, '0', '2')"
      ],
      "metadata": {
        "colab": {
          "base_uri": "https://localhost:8080/"
        },
        "id": "pjY8KrCXuiuj",
        "outputId": "fc622dd1-6b3e-49f3-d510-9540087847ca"
      },
      "execution_count": 6,
      "outputs": [
        {
          "output_type": "stream",
          "name": "stdout",
          "text": [
            "Output :  0 1 2  \n"
          ]
        }
      ]
    },
    {
      "cell_type": "code",
      "source": [
        "graph = {\n",
        "    'A' : ['B', 'C'],\n",
        "    'B' : ['D', 'E'],\n",
        "    'C' : ['F'],\n",
        "    'D' : [],\n",
        "    'E' : ['F'],\n",
        "    'F' : []\n",
        "}\n",
        "\n",
        "visited = set()\n",
        "\n",
        "def dfs(visited, graph, node):\n",
        "  if node not in visited:\n",
        "    print (node)\n",
        "    visited.add(node)\n",
        "    for neighbour in graph[node]:\n",
        "      dfs(visited, graph, neighbour)\n",
        "\n",
        "dfs(visited, graph, 'A')"
      ],
      "metadata": {
        "colab": {
          "base_uri": "https://localhost:8080/"
        },
        "id": "JmA7epalrKcx",
        "outputId": "6efca8f7-9fd8-46bf-9c36-d22bfded0e0d"
      },
      "execution_count": 5,
      "outputs": [
        {
          "output_type": "stream",
          "name": "stdout",
          "text": [
            "A\n",
            "B\n",
            "D\n",
            "E\n",
            "F\n",
            "C\n"
          ]
        }
      ]
    }
  ]
}